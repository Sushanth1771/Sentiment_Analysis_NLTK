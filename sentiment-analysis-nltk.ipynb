{
 "cells": [
  {
   "cell_type": "code",
   "execution_count": 1,
   "id": "be20f011",
   "metadata": {
    "_cell_guid": "b1076dfc-b9ad-4769-8c92-a6c4dae69d19",
    "_uuid": "8f2839f25d086af736a60e9eeb907d3b93b6e0e5",
    "execution": {
     "iopub.execute_input": "2023-02-22T09:03:59.734114Z",
     "iopub.status.busy": "2023-02-22T09:03:59.733460Z",
     "iopub.status.idle": "2023-02-22T09:03:59.755821Z",
     "shell.execute_reply": "2023-02-22T09:03:59.754431Z"
    },
    "papermill": {
     "duration": 0.034531,
     "end_time": "2023-02-22T09:03:59.758598",
     "exception": false,
     "start_time": "2023-02-22T09:03:59.724067",
     "status": "completed"
    },
    "tags": []
   },
   "outputs": [
    {
     "name": "stdout",
     "output_type": "stream",
     "text": [
      "/kaggle/input/amazon-fine-food-reviews/hashes.txt\n",
      "/kaggle/input/amazon-fine-food-reviews/Reviews.csv\n",
      "/kaggle/input/amazon-fine-food-reviews/database.sqlite\n"
     ]
    }
   ],
   "source": [
    "# This Python 3 environment comes with many helpful analytics libraries installed\n",
    "# It is defined by the kaggle/python Docker image: https://github.com/kaggle/docker-python\n",
    "# For example, here's several helpful packages to load\n",
    "\n",
    "import numpy as np # linear algebra\n",
    "import pandas as pd # data processing, CSV file I/O (e.g. pd.read_csv)\n",
    "\n",
    "# Input data files are available in the read-only \"../input/\" directory\n",
    "# For example, running this (by clicking run or pressing Shift+Enter) will list all files under the input directory\n",
    "\n",
    "import os\n",
    "for dirname, _, filenames in os.walk('/kaggle/input'):\n",
    "    for filename in filenames:\n",
    "        print(os.path.join(dirname, filename))\n",
    "\n",
    "# You can write up to 20GB to the current directory (/kaggle/working/) that gets preserved as output when you create a version using \"Save & Run All\" \n",
    "# You can also write temporary files to /kaggle/temp/, but they won't be saved outside of the current session"
   ]
  },
  {
   "cell_type": "markdown",
   "id": "a3c6185b",
   "metadata": {
    "papermill": {
     "duration": 0.005868,
     "end_time": "2023-02-22T09:03:59.770939",
     "exception": false,
     "start_time": "2023-02-22T09:03:59.765071",
     "status": "completed"
    },
    "tags": []
   },
   "source": [
    "# Sentiment Analysis in Python\n",
    "\n",
    "**VADER (Valence Aware Dictionary and sentiment Reasoner) - Bag of words approach**"
   ]
  },
  {
   "cell_type": "markdown",
   "id": "88caf9b7",
   "metadata": {
    "papermill": {
     "duration": 0.005726,
     "end_time": "2023-02-22T09:03:59.783291",
     "exception": false,
     "start_time": "2023-02-22T09:03:59.777565",
     "status": "completed"
    },
    "tags": []
   },
   "source": [
    "**Step 0. Read in Data and NLTK Basics**"
   ]
  },
  {
   "cell_type": "code",
   "execution_count": 2,
   "id": "c7ecafed",
   "metadata": {
    "execution": {
     "iopub.execute_input": "2023-02-22T09:03:59.798356Z",
     "iopub.status.busy": "2023-02-22T09:03:59.797539Z",
     "iopub.status.idle": "2023-02-22T09:04:01.811858Z",
     "shell.execute_reply": "2023-02-22T09:04:01.810515Z"
    },
    "papermill": {
     "duration": 2.025719,
     "end_time": "2023-02-22T09:04:01.815044",
     "exception": false,
     "start_time": "2023-02-22T09:03:59.789325",
     "status": "completed"
    },
    "tags": []
   },
   "outputs": [],
   "source": [
    "import pandas as pd\n",
    "import numpy as np\n",
    "import matplotlib.pyplot as plt\n",
    "import seaborn as sns\n",
    "\n",
    "plt.style.use('ggplot')\n",
    "\n",
    "import nltk"
   ]
  },
  {
   "cell_type": "code",
   "execution_count": 3,
   "id": "4c55cab9",
   "metadata": {
    "execution": {
     "iopub.execute_input": "2023-02-22T09:04:01.829763Z",
     "iopub.status.busy": "2023-02-22T09:04:01.828811Z",
     "iopub.status.idle": "2023-02-22T09:04:10.235156Z",
     "shell.execute_reply": "2023-02-22T09:04:10.233073Z"
    },
    "papermill": {
     "duration": 8.416361,
     "end_time": "2023-02-22T09:04:10.237729",
     "exception": false,
     "start_time": "2023-02-22T09:04:01.821368",
     "status": "completed"
    },
    "tags": []
   },
   "outputs": [
    {
     "name": "stdout",
     "output_type": "stream",
     "text": [
      "(568454, 10)\n",
      "(500, 10)\n"
     ]
    }
   ],
   "source": [
    "# Read in data\n",
    "df = pd.read_csv('../input/amazon-fine-food-reviews/Reviews.csv')\n",
    "print(df.shape)\n",
    "df = df.head(500)\n",
    "print(df.shape)"
   ]
  },
  {
   "cell_type": "code",
   "execution_count": 4,
   "id": "8a6135f1",
   "metadata": {
    "execution": {
     "iopub.execute_input": "2023-02-22T09:04:10.252125Z",
     "iopub.status.busy": "2023-02-22T09:04:10.251367Z",
     "iopub.status.idle": "2023-02-22T09:04:10.275028Z",
     "shell.execute_reply": "2023-02-22T09:04:10.273950Z"
    },
    "papermill": {
     "duration": 0.033578,
     "end_time": "2023-02-22T09:04:10.277631",
     "exception": false,
     "start_time": "2023-02-22T09:04:10.244053",
     "status": "completed"
    },
    "tags": []
   },
   "outputs": [
    {
     "data": {
      "text/html": [
       "<div>\n",
       "<style scoped>\n",
       "    .dataframe tbody tr th:only-of-type {\n",
       "        vertical-align: middle;\n",
       "    }\n",
       "\n",
       "    .dataframe tbody tr th {\n",
       "        vertical-align: top;\n",
       "    }\n",
       "\n",
       "    .dataframe thead th {\n",
       "        text-align: right;\n",
       "    }\n",
       "</style>\n",
       "<table border=\"1\" class=\"dataframe\">\n",
       "  <thead>\n",
       "    <tr style=\"text-align: right;\">\n",
       "      <th></th>\n",
       "      <th>Id</th>\n",
       "      <th>ProductId</th>\n",
       "      <th>UserId</th>\n",
       "      <th>ProfileName</th>\n",
       "      <th>HelpfulnessNumerator</th>\n",
       "      <th>HelpfulnessDenominator</th>\n",
       "      <th>Score</th>\n",
       "      <th>Time</th>\n",
       "      <th>Summary</th>\n",
       "      <th>Text</th>\n",
       "    </tr>\n",
       "  </thead>\n",
       "  <tbody>\n",
       "    <tr>\n",
       "      <th>0</th>\n",
       "      <td>1</td>\n",
       "      <td>B001E4KFG0</td>\n",
       "      <td>A3SGXH7AUHU8GW</td>\n",
       "      <td>delmartian</td>\n",
       "      <td>1</td>\n",
       "      <td>1</td>\n",
       "      <td>5</td>\n",
       "      <td>1303862400</td>\n",
       "      <td>Good Quality Dog Food</td>\n",
       "      <td>I have bought several of the Vitality canned d...</td>\n",
       "    </tr>\n",
       "    <tr>\n",
       "      <th>1</th>\n",
       "      <td>2</td>\n",
       "      <td>B00813GRG4</td>\n",
       "      <td>A1D87F6ZCVE5NK</td>\n",
       "      <td>dll pa</td>\n",
       "      <td>0</td>\n",
       "      <td>0</td>\n",
       "      <td>1</td>\n",
       "      <td>1346976000</td>\n",
       "      <td>Not as Advertised</td>\n",
       "      <td>Product arrived labeled as Jumbo Salted Peanut...</td>\n",
       "    </tr>\n",
       "    <tr>\n",
       "      <th>2</th>\n",
       "      <td>3</td>\n",
       "      <td>B000LQOCH0</td>\n",
       "      <td>ABXLMWJIXXAIN</td>\n",
       "      <td>Natalia Corres \"Natalia Corres\"</td>\n",
       "      <td>1</td>\n",
       "      <td>1</td>\n",
       "      <td>4</td>\n",
       "      <td>1219017600</td>\n",
       "      <td>\"Delight\" says it all</td>\n",
       "      <td>This is a confection that has been around a fe...</td>\n",
       "    </tr>\n",
       "    <tr>\n",
       "      <th>3</th>\n",
       "      <td>4</td>\n",
       "      <td>B000UA0QIQ</td>\n",
       "      <td>A395BORC6FGVXV</td>\n",
       "      <td>Karl</td>\n",
       "      <td>3</td>\n",
       "      <td>3</td>\n",
       "      <td>2</td>\n",
       "      <td>1307923200</td>\n",
       "      <td>Cough Medicine</td>\n",
       "      <td>If you are looking for the secret ingredient i...</td>\n",
       "    </tr>\n",
       "    <tr>\n",
       "      <th>4</th>\n",
       "      <td>5</td>\n",
       "      <td>B006K2ZZ7K</td>\n",
       "      <td>A1UQRSCLF8GW1T</td>\n",
       "      <td>Michael D. Bigham \"M. Wassir\"</td>\n",
       "      <td>0</td>\n",
       "      <td>0</td>\n",
       "      <td>5</td>\n",
       "      <td>1350777600</td>\n",
       "      <td>Great taffy</td>\n",
       "      <td>Great taffy at a great price.  There was a wid...</td>\n",
       "    </tr>\n",
       "  </tbody>\n",
       "</table>\n",
       "</div>"
      ],
      "text/plain": [
       "   Id   ProductId          UserId                      ProfileName  \\\n",
       "0   1  B001E4KFG0  A3SGXH7AUHU8GW                       delmartian   \n",
       "1   2  B00813GRG4  A1D87F6ZCVE5NK                           dll pa   \n",
       "2   3  B000LQOCH0   ABXLMWJIXXAIN  Natalia Corres \"Natalia Corres\"   \n",
       "3   4  B000UA0QIQ  A395BORC6FGVXV                             Karl   \n",
       "4   5  B006K2ZZ7K  A1UQRSCLF8GW1T    Michael D. Bigham \"M. Wassir\"   \n",
       "\n",
       "   HelpfulnessNumerator  HelpfulnessDenominator  Score        Time  \\\n",
       "0                     1                       1      5  1303862400   \n",
       "1                     0                       0      1  1346976000   \n",
       "2                     1                       1      4  1219017600   \n",
       "3                     3                       3      2  1307923200   \n",
       "4                     0                       0      5  1350777600   \n",
       "\n",
       "                 Summary                                               Text  \n",
       "0  Good Quality Dog Food  I have bought several of the Vitality canned d...  \n",
       "1      Not as Advertised  Product arrived labeled as Jumbo Salted Peanut...  \n",
       "2  \"Delight\" says it all  This is a confection that has been around a fe...  \n",
       "3         Cough Medicine  If you are looking for the secret ingredient i...  \n",
       "4            Great taffy  Great taffy at a great price.  There was a wid...  "
      ]
     },
     "execution_count": 4,
     "metadata": {},
     "output_type": "execute_result"
    }
   ],
   "source": [
    "df.head()"
   ]
  },
  {
   "cell_type": "markdown",
   "id": "a08461a9",
   "metadata": {
    "papermill": {
     "duration": 0.006085,
     "end_time": "2023-02-22T09:04:10.290164",
     "exception": false,
     "start_time": "2023-02-22T09:04:10.284079",
     "status": "completed"
    },
    "tags": []
   },
   "source": [
    "# Quick EDA"
   ]
  },
  {
   "cell_type": "code",
   "execution_count": 5,
   "id": "85c971fd",
   "metadata": {
    "execution": {
     "iopub.execute_input": "2023-02-22T09:04:10.305282Z",
     "iopub.status.busy": "2023-02-22T09:04:10.304329Z",
     "iopub.status.idle": "2023-02-22T09:04:10.588101Z",
     "shell.execute_reply": "2023-02-22T09:04:10.586958Z"
    },
    "papermill": {
     "duration": 0.294253,
     "end_time": "2023-02-22T09:04:10.590928",
     "exception": false,
     "start_time": "2023-02-22T09:04:10.296675",
     "status": "completed"
    },
    "tags": []
   },
   "outputs": [
    {
     "data": {
      "image/png": "[encoded data removed]",
      "text/plain": [
       "<Figure size 1000x500 with 1 Axes>"
      ]
     },
     "metadata": {},
     "output_type": "display_data"
    }
   ],
   "source": [
    "ax = df['Score'].value_counts().sort_index() \\\n",
    "    .plot(kind='bar',\n",
    "          title='Count of Reviews by Stars',\n",
    "          figsize=(10, 5))\n",
    "ax.set_xlabel('Review Stars')\n",
    "plt.show()"
   ]
  },
  {
   "cell_type": "markdown",
   "id": "7e149402",
   "metadata": {
    "papermill": {
     "duration": 0.00654,
     "end_time": "2023-02-22T09:04:10.604444",
     "exception": false,
     "start_time": "2023-02-22T09:04:10.597904",
     "status": "completed"
    },
    "tags": []
   },
   "source": [
    "# Basic NLTK"
   ]
  },
  {
   "cell_type": "code",
   "execution_count": 6,
   "id": "955ad3bc",
   "metadata": {
    "execution": {
     "iopub.execute_input": "2023-02-22T09:04:10.619711Z",
     "iopub.status.busy": "2023-02-22T09:04:10.619294Z",
     "iopub.status.idle": "2023-02-22T09:04:10.625686Z",
     "shell.execute_reply": "2023-02-22T09:04:10.624115Z"
    },
    "papermill": {
     "duration": 0.016802,
     "end_time": "2023-02-22T09:04:10.628058",
     "exception": false,
     "start_time": "2023-02-22T09:04:10.611256",
     "status": "completed"
    },
    "tags": []
   },
   "outputs": [
    {
     "name": "stdout",
     "output_type": "stream",
     "text": [
      "The flavors are good.  However, I do not see any differce between this and Oaker Oats brand - they are both mushy.\n"
     ]
    }
   ],
   "source": [
    "example = df['Text'][47]\n",
    "print(example)"
   ]
  },
  {
   "cell_type": "code",
   "execution_count": 7,
   "id": "cb8c0121",
   "metadata": {
    "execution": {
     "iopub.execute_input": "2023-02-22T09:04:10.644268Z",
     "iopub.status.busy": "2023-02-22T09:04:10.643803Z",
     "iopub.status.idle": "2023-02-22T09:04:10.665588Z",
     "shell.execute_reply": "2023-02-22T09:04:10.664301Z"
    },
    "papermill": {
     "duration": 0.03256,
     "end_time": "2023-02-22T09:04:10.668162",
     "exception": false,
     "start_time": "2023-02-22T09:04:10.635602",
     "status": "completed"
    },
    "tags": []
   },
   "outputs": [
    {
     "data": {
      "text/plain": [
       "['The', 'flavors', 'are', 'good', '.', 'However', ',', 'I', 'do', 'not']"
      ]
     },
     "execution_count": 7,
     "metadata": {},
     "output_type": "execute_result"
    }
   ],
   "source": [
    "tokens = nltk.word_tokenize(example)\n",
    "tokens[:10]"
   ]
  },
  {
   "cell_type": "code",
   "execution_count": 8,
   "id": "5f2cd920",
   "metadata": {
    "execution": {
     "iopub.execute_input": "2023-02-22T09:04:10.684607Z",
     "iopub.status.busy": "2023-02-22T09:04:10.683884Z",
     "iopub.status.idle": "2023-02-22T09:04:10.822640Z",
     "shell.execute_reply": "2023-02-22T09:04:10.821774Z"
    },
    "papermill": {
     "duration": 0.149476,
     "end_time": "2023-02-22T09:04:10.824880",
     "exception": false,
     "start_time": "2023-02-22T09:04:10.675404",
     "status": "completed"
    },
    "tags": []
   },
   "outputs": [
    {
     "data": {
      "text/plain": [
       "[('The', 'DT'),\n",
       " ('flavors', 'NNS'),\n",
       " ('are', 'VBP'),\n",
       " ('good', 'JJ'),\n",
       " ('.', '.'),\n",
       " ('However', 'RB'),\n",
       " (',', ','),\n",
       " ('I', 'PRP'),\n",
       " ('do', 'VBP'),\n",
       " ('not', 'RB')]"
      ]
     },
     "execution_count": 8,
     "metadata": {},
     "output_type": "execute_result"
    }
   ],
   "source": [
    "tagged = nltk.pos_tag(tokens)\n",
    "tagged[:10]"
   ]
  },
  {
   "cell_type": "code",
   "execution_count": 9,
   "id": "ef113c4b",
   "metadata": {
    "execution": {
     "iopub.execute_input": "2023-02-22T09:04:10.841379Z",
     "iopub.status.busy": "2023-02-22T09:04:10.840771Z",
     "iopub.status.idle": "2023-02-22T09:04:10.848420Z",
     "shell.execute_reply": "2023-02-22T09:04:10.847644Z"
    },
    "papermill": {
     "duration": 0.018238,
     "end_time": "2023-02-22T09:04:10.850439",
     "exception": false,
     "start_time": "2023-02-22T09:04:10.832201",
     "status": "completed"
    },
    "tags": []
   },
   "outputs": [
    {
     "data": {
      "text/plain": [
       "[('The', 'DT'),\n",
       " ('flavors', 'NNS'),\n",
       " ('are', 'VBP'),\n",
       " ('good', 'JJ'),\n",
       " ('.', '.'),\n",
       " ('However', 'RB'),\n",
       " (',', ','),\n",
       " ('I', 'PRP'),\n",
       " ('do', 'VBP'),\n",
       " ('not', 'RB')]"
      ]
     },
     "execution_count": 9,
     "metadata": {},
     "output_type": "execute_result"
    }
   ],
   "source": [
    "tagged = nltk.pos_tag(tokens)\n",
    "tagged[:10]"
   ]
  },
  {
   "cell_type": "markdown",
   "id": "7998ad22",
   "metadata": {
    "papermill": {
     "duration": 0.006958,
     "end_time": "2023-02-22T09:04:10.865058",
     "exception": false,
     "start_time": "2023-02-22T09:04:10.858100",
     "status": "completed"
    },
    "tags": []
   },
   "source": [
    "# VADER Seniment Scoring\n",
    "\n",
    "We will use NLTK's SentimentIntensityAnalyzer to get the neg/neu/pos scores of the text.\n",
    "\n",
    "This uses a \"bag of words\" approach:\n",
    "Stop words are removed\n",
    "each word is scored and combined to a total score"
   ]
  },
  {
   "cell_type": "code",
   "execution_count": 10,
   "id": "489c297b",
   "metadata": {
    "execution": {
     "iopub.execute_input": "2023-02-22T09:04:10.881874Z",
     "iopub.status.busy": "2023-02-22T09:04:10.881275Z",
     "iopub.status.idle": "2023-02-22T09:04:10.916952Z",
     "shell.execute_reply": "2023-02-22T09:04:10.916100Z"
    },
    "papermill": {
     "duration": 0.047022,
     "end_time": "2023-02-22T09:04:10.919424",
     "exception": false,
     "start_time": "2023-02-22T09:04:10.872402",
     "status": "completed"
    },
    "tags": []
   },
   "outputs": [],
   "source": [
    "from nltk.sentiment import SentimentIntensityAnalyzer\n",
    "from tqdm.notebook import tqdm\n",
    "\n",
    "sia = SentimentIntensityAnalyzer()"
   ]
  },
  {
   "cell_type": "code",
   "execution_count": 11,
   "id": "1fdad594",
   "metadata": {
    "execution": {
     "iopub.execute_input": "2023-02-22T09:04:10.936231Z",
     "iopub.status.busy": "2023-02-22T09:04:10.935810Z",
     "iopub.status.idle": "2023-02-22T09:04:10.943603Z",
     "shell.execute_reply": "2023-02-22T09:04:10.942498Z"
    },
    "papermill": {
     "duration": 0.018854,
     "end_time": "2023-02-22T09:04:10.945969",
     "exception": false,
     "start_time": "2023-02-22T09:04:10.927115",
     "status": "completed"
    },
    "tags": []
   },
   "outputs": [
    {
     "data": {
      "text/plain": [
       "{'neg': 0.0, 'neu': 0.271, 'pos': 0.729, 'compound': 0.4003}"
      ]
     },
     "execution_count": 11,
     "metadata": {},
     "output_type": "execute_result"
    }
   ],
   "source": [
    "sia.polarity_scores('I am Excited!')"
   ]
  },
  {
   "cell_type": "code",
   "execution_count": 12,
   "id": "8c1b1598",
   "metadata": {
    "execution": {
     "iopub.execute_input": "2023-02-22T09:04:10.962103Z",
     "iopub.status.busy": "2023-02-22T09:04:10.961734Z",
     "iopub.status.idle": "2023-02-22T09:04:10.968884Z",
     "shell.execute_reply": "2023-02-22T09:04:10.967820Z"
    },
    "papermill": {
     "duration": 0.017549,
     "end_time": "2023-02-22T09:04:10.970907",
     "exception": false,
     "start_time": "2023-02-22T09:04:10.953358",
     "status": "completed"
    },
    "tags": []
   },
   "outputs": [
    {
     "data": {
      "text/plain": [
       "{'neg': 0.431, 'neu': 0.569, 'pos': 0.0, 'compound': -0.5848}"
      ]
     },
     "execution_count": 12,
     "metadata": {},
     "output_type": "execute_result"
    }
   ],
   "source": [
    "sia.polarity_scores('The sneakers are of bad quality!')"
   ]
  },
  {
   "cell_type": "code",
   "execution_count": 13,
   "id": "8e17dfc1",
   "metadata": {
    "execution": {
     "iopub.execute_input": "2023-02-22T09:04:10.987717Z",
     "iopub.status.busy": "2023-02-22T09:04:10.987299Z",
     "iopub.status.idle": "2023-02-22T09:04:10.995537Z",
     "shell.execute_reply": "2023-02-22T09:04:10.994341Z"
    },
    "papermill": {
     "duration": 0.019172,
     "end_time": "2023-02-22T09:04:10.997736",
     "exception": false,
     "start_time": "2023-02-22T09:04:10.978564",
     "status": "completed"
    },
    "tags": []
   },
   "outputs": [
    {
     "data": {
      "text/plain": [
       "{'neg': 0.0, 'neu': 0.868, 'pos': 0.132, 'compound': 0.4404}"
      ]
     },
     "execution_count": 13,
     "metadata": {},
     "output_type": "execute_result"
    }
   ],
   "source": [
    "sia.polarity_scores(example)"
   ]
  },
  {
   "cell_type": "code",
   "execution_count": 14,
   "id": "0333afe2",
   "metadata": {
    "execution": {
     "iopub.execute_input": "2023-02-22T09:04:11.014944Z",
     "iopub.status.busy": "2023-02-22T09:04:11.014547Z",
     "iopub.status.idle": "2023-02-22T09:04:11.598347Z",
     "shell.execute_reply": "2023-02-22T09:04:11.597216Z"
    },
    "papermill": {
     "duration": 0.595196,
     "end_time": "2023-02-22T09:04:11.600867",
     "exception": false,
     "start_time": "2023-02-22T09:04:11.005671",
     "status": "completed"
    },
    "tags": []
   },
   "outputs": [
    {
     "data": {
      "application/vnd.jupyter.widget-view+json": {
       "model_id": "12e31c4e7fc64d2492c084234728e6ef",
       "version_major": 2,
       "version_minor": 0
      },
      "text/plain": [
       "  0%|          | 0/500 [00:00<?, ?it/s]"
      ]
     },
     "metadata": {},
     "output_type": "display_data"
    }
   ],
   "source": [
    "# Run the polarity score on the entire dataset\n",
    "res = {}\n",
    "for i, row in tqdm(df.iterrows(), total=len(df)):\n",
    "    text = row['Text']\n",
    "    myid = row['Id']\n",
    "    res[myid] = sia.polarity_scores(text)"
   ]
  },
  {
   "cell_type": "code",
   "execution_count": 15,
   "id": "425a5428",
   "metadata": {
    "execution": {
     "iopub.execute_input": "2023-02-22T09:04:11.618372Z",
     "iopub.status.busy": "2023-02-22T09:04:11.617807Z",
     "iopub.status.idle": "2023-02-22T09:04:11.651928Z",
     "shell.execute_reply": "2023-02-22T09:04:11.650835Z"
    },
    "papermill": {
     "duration": 0.045907,
     "end_time": "2023-02-22T09:04:11.654683",
     "exception": false,
     "start_time": "2023-02-22T09:04:11.608776",
     "status": "completed"
    },
    "tags": []
   },
   "outputs": [],
   "source": [
    "vaders = pd.DataFrame(res).T\n",
    "vaders = vaders.reset_index().rename(columns={'index': 'Id'})\n",
    "vaders = vaders.merge(df, how='left')"
   ]
  },
  {
   "cell_type": "code",
   "execution_count": 16,
   "id": "71c775d1",
   "metadata": {
    "execution": {
     "iopub.execute_input": "2023-02-22T09:04:11.671842Z",
     "iopub.status.busy": "2023-02-22T09:04:11.671453Z",
     "iopub.status.idle": "2023-02-22T09:04:11.690489Z",
     "shell.execute_reply": "2023-02-22T09:04:11.689379Z"
    },
    "papermill": {
     "duration": 0.03014,
     "end_time": "2023-02-22T09:04:11.692671",
     "exception": false,
     "start_time": "2023-02-22T09:04:11.662531",
     "status": "completed"
    },
    "tags": []
   },
   "outputs": [
    {
     "data": {
      "text/html": [
       "<div>\n",
       "<style scoped>\n",
       "    .dataframe tbody tr th:only-of-type {\n",
       "        vertical-align: middle;\n",
       "    }\n",
       "\n",
       "    .dataframe tbody tr th {\n",
       "        vertical-align: top;\n",
       "    }\n",
       "\n",
       "    .dataframe thead th {\n",
       "        text-align: right;\n",
       "    }\n",
       "</style>\n",
       "<table border=\"1\" class=\"dataframe\">\n",
       "  <thead>\n",
       "    <tr style=\"text-align: right;\">\n",
       "      <th></th>\n",
       "      <th>Id</th>\n",
       "      <th>neg</th>\n",
       "      <th>neu</th>\n",
       "      <th>pos</th>\n",
       "      <th>compound</th>\n",
       "      <th>ProductId</th>\n",
       "      <th>UserId</th>\n",
       "      <th>ProfileName</th>\n",
       "      <th>HelpfulnessNumerator</th>\n",
       "      <th>HelpfulnessDenominator</th>\n",
       "      <th>Score</th>\n",
       "      <th>Time</th>\n",
       "      <th>Summary</th>\n",
       "      <th>Text</th>\n",
       "    </tr>\n",
       "  </thead>\n",
       "  <tbody>\n",
       "    <tr>\n",
       "      <th>0</th>\n",
       "      <td>1</td>\n",
       "      <td>0.000</td>\n",
       "      <td>0.695</td>\n",
       "      <td>0.305</td>\n",
       "      <td>0.9441</td>\n",
       "      <td>B001E4KFG0</td>\n",
       "      <td>A3SGXH7AUHU8GW</td>\n",
       "      <td>delmartian</td>\n",
       "      <td>1</td>\n",
       "      <td>1</td>\n",
       "      <td>5</td>\n",
       "      <td>1303862400</td>\n",
       "      <td>Good Quality Dog Food</td>\n",
       "      <td>I have bought several of the Vitality canned d...</td>\n",
       "    </tr>\n",
       "    <tr>\n",
       "      <th>1</th>\n",
       "      <td>2</td>\n",
       "      <td>0.138</td>\n",
       "      <td>0.862</td>\n",
       "      <td>0.000</td>\n",
       "      <td>-0.5664</td>\n",
       "      <td>B00813GRG4</td>\n",
       "      <td>A1D87F6ZCVE5NK</td>\n",
       "      <td>dll pa</td>\n",
       "      <td>0</td>\n",
       "      <td>0</td>\n",
       "      <td>1</td>\n",
       "      <td>1346976000</td>\n",
       "      <td>Not as Advertised</td>\n",
       "      <td>Product arrived labeled as Jumbo Salted Peanut...</td>\n",
       "    </tr>\n",
       "    <tr>\n",
       "      <th>2</th>\n",
       "      <td>3</td>\n",
       "      <td>0.091</td>\n",
       "      <td>0.754</td>\n",
       "      <td>0.155</td>\n",
       "      <td>0.8265</td>\n",
       "      <td>B000LQOCH0</td>\n",
       "      <td>ABXLMWJIXXAIN</td>\n",
       "      <td>Natalia Corres \"Natalia Corres\"</td>\n",
       "      <td>1</td>\n",
       "      <td>1</td>\n",
       "      <td>4</td>\n",
       "      <td>1219017600</td>\n",
       "      <td>\"Delight\" says it all</td>\n",
       "      <td>This is a confection that has been around a fe...</td>\n",
       "    </tr>\n",
       "    <tr>\n",
       "      <th>3</th>\n",
       "      <td>4</td>\n",
       "      <td>0.000</td>\n",
       "      <td>1.000</td>\n",
       "      <td>0.000</td>\n",
       "      <td>0.0000</td>\n",
       "      <td>B000UA0QIQ</td>\n",
       "      <td>A395BORC6FGVXV</td>\n",
       "      <td>Karl</td>\n",
       "      <td>3</td>\n",
       "      <td>3</td>\n",
       "      <td>2</td>\n",
       "      <td>1307923200</td>\n",
       "      <td>Cough Medicine</td>\n",
       "      <td>If you are looking for the secret ingredient i...</td>\n",
       "    </tr>\n",
       "    <tr>\n",
       "      <th>4</th>\n",
       "      <td>5</td>\n",
       "      <td>0.000</td>\n",
       "      <td>0.552</td>\n",
       "      <td>0.448</td>\n",
       "      <td>0.9468</td>\n",
       "      <td>B006K2ZZ7K</td>\n",
       "      <td>A1UQRSCLF8GW1T</td>\n",
       "      <td>Michael D. Bigham \"M. Wassir\"</td>\n",
       "      <td>0</td>\n",
       "      <td>0</td>\n",
       "      <td>5</td>\n",
       "      <td>1350777600</td>\n",
       "      <td>Great taffy</td>\n",
       "      <td>Great taffy at a great price.  There was a wid...</td>\n",
       "    </tr>\n",
       "  </tbody>\n",
       "</table>\n",
       "</div>"
      ],
      "text/plain": [
       "   Id    neg    neu    pos  compound   ProductId          UserId  \\\n",
       "0   1  0.000  0.695  0.305    0.9441  B001E4KFG0  A3SGXH7AUHU8GW   \n",
       "1   2  0.138  0.862  0.000   -0.5664  B00813GRG4  A1D87F6ZCVE5NK   \n",
       "2   3  0.091  0.754  0.155    0.8265  B000LQOCH0   ABXLMWJIXXAIN   \n",
       "3   4  0.000  1.000  0.000    0.0000  B000UA0QIQ  A395BORC6FGVXV   \n",
       "4   5  0.000  0.552  0.448    0.9468  B006K2ZZ7K  A1UQRSCLF8GW1T   \n",
       "\n",
       "                       ProfileName  HelpfulnessNumerator  \\\n",
       "0                       delmartian                     1   \n",
       "1                           dll pa                     0   \n",
       "2  Natalia Corres \"Natalia Corres\"                     1   \n",
       "3                             Karl                     3   \n",
       "4    Michael D. Bigham \"M. Wassir\"                     0   \n",
       "\n",
       "   HelpfulnessDenominator  Score        Time                Summary  \\\n",
       "0                       1      5  1303862400  Good Quality Dog Food   \n",
       "1                       0      1  1346976000      Not as Advertised   \n",
       "2                       1      4  1219017600  \"Delight\" says it all   \n",
       "3                       3      2  1307923200         Cough Medicine   \n",
       "4                       0      5  1350777600            Great taffy   \n",
       "\n",
       "                                                Text  \n",
       "0  I have bought several of the Vitality canned d...  \n",
       "1  Product arrived labeled as Jumbo Salted Peanut...  \n",
       "2  This is a confection that has been around a fe...  \n",
       "3  If you are looking for the secret ingredient i...  \n",
       "4  Great taffy at a great price.  There was a wid...  "
      ]
     },
     "execution_count": 16,
     "metadata": {},
     "output_type": "execute_result"
    }
   ],
   "source": [
    "# Now we have sentiment score and metadata\n",
    "vaders.head()"
   ]
  },
  {
   "cell_type": "markdown",
   "id": "88a04579",
   "metadata": {
    "papermill": {
     "duration": 0.007598,
     "end_time": "2023-02-22T09:04:11.708254",
     "exception": false,
     "start_time": "2023-02-22T09:04:11.700656",
     "status": "completed"
    },
    "tags": []
   },
   "source": [
    "# Plot VADER results"
   ]
  },
  {
   "cell_type": "code",
   "execution_count": 17,
   "id": "fa0e4e6d",
   "metadata": {
    "execution": {
     "iopub.execute_input": "2023-02-22T09:04:11.727003Z",
     "iopub.status.busy": "2023-02-22T09:04:11.725823Z",
     "iopub.status.idle": "2023-02-22T09:04:12.067055Z",
     "shell.execute_reply": "2023-02-22T09:04:12.065794Z"
    },
    "papermill": {
     "duration": 0.353224,
     "end_time": "2023-02-22T09:04:12.069702",
     "exception": false,
     "start_time": "2023-02-22T09:04:11.716478",
     "status": "completed"
    },
    "tags": []
   },
   "outputs": [
    {
     "data": {
      "image/png": "[encoded data removed]",
      "text/plain": [
       "<Figure size 640x480 with 1 Axes>"
      ]
     },
     "metadata": {},
     "output_type": "display_data"
    }
   ],
   "source": [
    "ax = sns.barplot(data=vaders, x='Score', y='compound')\n",
    "ax.set_title('Compound Score by Amazon Star Review')\n",
    "plt.show()"
   ]
  },
  {
   "cell_type": "code",
   "execution_count": 18,
   "id": "168f6fc0",
   "metadata": {
    "execution": {
     "iopub.execute_input": "2023-02-22T09:04:12.089408Z",
     "iopub.status.busy": "2023-02-22T09:04:12.088487Z",
     "iopub.status.idle": "2023-02-22T09:04:12.913596Z",
     "shell.execute_reply": "2023-02-22T09:04:12.912546Z"
    },
    "papermill": {
     "duration": 0.838285,
     "end_time": "2023-02-22T09:04:12.916814",
     "exception": false,
     "start_time": "2023-02-22T09:04:12.078529",
     "status": "completed"
    },
    "tags": []
   },
   "outputs": [
    {
     "data": {
      "image/png": "[encoded data removed]",
      "text/plain": [
       "<Figure size 1200x300 with 3 Axes>"
      ]
     },
     "metadata": {},
     "output_type": "display_data"
    }
   ],
   "source": [
    "fig, axs = plt.subplots(1, 3, figsize=(12, 3))\n",
    "sns.barplot(data=vaders, x='Score', y='pos', ax=axs[0])\n",
    "sns.barplot(data=vaders, x='Score', y='neu', ax=axs[1])\n",
    "sns.barplot(data=vaders, x='Score', y='neg', ax=axs[2])\n",
    "axs[0].set_title('Positive')\n",
    "axs[1].set_title('Neutral')\n",
    "axs[2].set_title('Negative')\n",
    "plt.tight_layout()\n",
    "plt.show()"
   ]
  },
  {
   "cell_type": "markdown",
   "id": "0274ee99",
   "metadata": {
    "papermill": {
     "duration": 0.008506,
     "end_time": "2023-02-22T09:04:12.934370",
     "exception": false,
     "start_time": "2023-02-22T09:04:12.925864",
     "status": "completed"
    },
    "tags": []
   },
   "source": [
    "# THE END"
   ]
  }
 ],
 "metadata": {
  "kernelspec": {
   "display_name": "Python 3",
   "language": "python",
   "name": "python3"
  },
  "language_info": {
   "codemirror_mode": {
    "name": "ipython",
    "version": 3
   },
   "file_extension": ".py",
   "mimetype": "text/x-python",
   "name": "python",
   "nbconvert_exporter": "python",
   "pygments_lexer": "ipython3",
   "version": "3.7.12"
  },
  "papermill": {
   "default_parameters": {},
   "duration": 23.008872,
   "end_time": "2023-02-22T09:04:13.965870",
   "environment_variables": {},
   "exception": null,
   "input_path": "__notebook__.ipynb",
   "output_path": "__notebook__.ipynb",
   "parameters": {},
   "start_time": "2023-02-22T09:03:50.956998",
   "version": "2.3.4"
  },
  "widgets": {
   "application/vnd.jupyter.widget-state+json": {
    "state": {
     "00fb24281ae44f54af73772e557436f3": {
      "model_module": "@jupyter-widgets/base",
      "model_module_version": "1.2.0",
      "model_name": "LayoutModel",
      "state": {
       "_model_module": "@jupyter-widgets/base",
       "_model_module_version": "1.2.0",
       "_model_name": "LayoutModel",
       "_view_count": null,
       "_view_module": "@jupyter-widgets/base",
       "_view_module_version": "1.2.0",
       "_view_name": "LayoutView",
       "align_content": null,
       "align_items": null,
       "align_self": null,
       "border": null,
       "bottom": null,
       "display": null,
       "flex": null,
       "flex_flow": null,
       "grid_area": null,
       "grid_auto_columns": null,
       "grid_auto_flow": null,
       "grid_auto_rows": null,
       "grid_column": null,
       "grid_gap": null,
       "grid_row": null,
       "grid_template_areas": null,
       "grid_template_columns": null,
       "grid_template_rows": null,
       "height": null,
       "justify_content": null,
       "justify_items": null,
       "left": null,
       "margin": null,
       "max_height": null,
       "max_width": null,
       "min_height": null,
       "min_width": null,
       "object_fit": null,
       "object_position": null,
       "order": null,
       "overflow": null,
       "overflow_x": null,
       "overflow_y": null,
       "padding": null,
       "right": null,
       "top": null,
       "visibility": null,
       "width": null
      }
     },
     "078f20aad7e64481abf417e9decbd960": {
      "model_module": "@jupyter-widgets/controls",
      "model_module_version": "1.5.0",
      "model_name": "DescriptionStyleModel",
      "state": {
       "_model_module": "@jupyter-widgets/controls",
       "_model_module_version": "1.5.0",
       "_model_name": "DescriptionStyleModel",
       "_view_count": null,
       "_view_module": "@jupyter-widgets/base",
       "_view_module_version": "1.2.0",
       "_view_name": "StyleView",
       "description_width": ""
      }
     },
     "11d6c71495d4431c95910475508a71db": {
      "model_module": "@jupyter-widgets/controls",
      "model_module_version": "1.5.0",
      "model_name": "HTMLModel",
      "state": {
       "_dom_classes": [],
       "_model_module": "@jupyter-widgets/controls",
       "_model_module_version": "1.5.0",
       "_model_name": "HTMLModel",
       "_view_count": null,
       "_view_module": "@jupyter-widgets/controls",
       "_view_module_version": "1.5.0",
       "_view_name": "HTMLView",
       "description": "",
       "description_tooltip": null,
       "layout": "IPY_MODEL_982733ab161e458dab3c8614fdcd07f3",
       "placeholder": "​",
       "style": "IPY_MODEL_c5f29473e7db45479f039f3dde6f4616",
       "value": "100%"
      }
     },
     "12e31c4e7fc64d2492c084234728e6ef": {
      "model_module": "@jupyter-widgets/controls",
      "model_module_version": "1.5.0",
      "model_name": "HBoxModel",
      "state": {
       "_dom_classes": [],
       "_model_module": "@jupyter-widgets/controls",
       "_model_module_version": "1.5.0",
       "_model_name": "HBoxModel",
       "_view_count": null,
       "_view_module": "@jupyter-widgets/controls",
       "_view_module_version": "1.5.0",
       "_view_name": "HBoxView",
       "box_style": "",
       "children": [
        "IPY_MODEL_11d6c71495d4431c95910475508a71db",
        "IPY_MODEL_4e9bff1fa2774fe5ab1681cbe754a299",
        "IPY_MODEL_fd4beded965648229ae3207afe5967b4"
       ],
       "layout": "IPY_MODEL_e456e33702ec419e812501bdaa22e44b"
      }
     },
     "4e9bff1fa2774fe5ab1681cbe754a299": {
      "model_module": "@jupyter-widgets/controls",
      "model_module_version": "1.5.0",
      "model_name": "FloatProgressModel",
      "state": {
       "_dom_classes": [],
       "_model_module": "@jupyter-widgets/controls",
       "_model_module_version": "1.5.0",
       "_model_name": "FloatProgressModel",
       "_view_count": null,
       "_view_module": "@jupyter-widgets/controls",
       "_view_module_version": "1.5.0",
       "_view_name": "ProgressView",
       "bar_style": "success",
       "description": "",
       "description_tooltip": null,
       "layout": "IPY_MODEL_6fbeae64c8a3498196442e62d8423223",
       "max": 500.0,
       "min": 0.0,
       "orientation": "horizontal",
       "style": "IPY_MODEL_57469d6bc6044b969e93d7ff8a181219",
       "value": 500.0
      }
     },
     "57469d6bc6044b969e93d7ff8a181219": {
      "model_module": "@jupyter-widgets/controls",
      "model_module_version": "1.5.0",
      "model_name": "ProgressStyleModel",
      "state": {
       "_model_module": "@jupyter-widgets/controls",
       "_model_module_version": "1.5.0",
       "_model_name": "ProgressStyleModel",
       "_view_count": null,
       "_view_module": "@jupyter-widgets/base",
       "_view_module_version": "1.2.0",
       "_view_name": "StyleView",
       "bar_color": null,
       "description_width": ""
      }
     },
     "6fbeae64c8a3498196442e62d8423223": {
      "model_module": "@jupyter-widgets/base",
      "model_module_version": "1.2.0",
      "model_name": "LayoutModel",
      "state": {
       "_model_module": "@jupyter-widgets/base",
       "_model_module_version": "1.2.0",
       "_model_name": "LayoutModel",
       "_view_count": null,
       "_view_module": "@jupyter-widgets/base",
       "_view_module_version": "1.2.0",
       "_view_name": "LayoutView",
       "align_content": null,
       "align_items": null,
       "align_self": null,
       "border": null,
       "bottom": null,
       "display": null,
       "flex": null,
       "flex_flow": null,
       "grid_area": null,
       "grid_auto_columns": null,
       "grid_auto_flow": null,
       "grid_auto_rows": null,
       "grid_column": null,
       "grid_gap": null,
       "grid_row": null,
       "grid_template_areas": null,
       "grid_template_columns": null,
       "grid_template_rows": null,
       "height": null,
       "justify_content": null,
       "justify_items": null,
       "left": null,
       "margin": null,
       "max_height": null,
       "max_width": null,
       "min_height": null,
       "min_width": null,
       "object_fit": null,
       "object_position": null,
       "order": null,
       "overflow": null,
       "overflow_x": null,
       "overflow_y": null,
       "padding": null,
       "right": null,
       "top": null,
       "visibility": null,
       "width": null
      }
     },
     "982733ab161e458dab3c8614fdcd07f3": {
      "model_module": "@jupyter-widgets/base",
      "model_module_version": "1.2.0",
      "model_name": "LayoutModel",
      "state": {
       "_model_module": "@jupyter-widgets/base",
       "_model_module_version": "1.2.0",
       "_model_name": "LayoutModel",
       "_view_count": null,
       "_view_module": "@jupyter-widgets/base",
       "_view_module_version": "1.2.0",
       "_view_name": "LayoutView",
       "align_content": null,
       "align_items": null,
       "align_self": null,
       "border": null,
       "bottom": null,
       "display": null,
       "flex": null,
       "flex_flow": null,
       "grid_area": null,
       "grid_auto_columns": null,
       "grid_auto_flow": null,
       "grid_auto_rows": null,
       "grid_column": null,
       "grid_gap": null,
       "grid_row": null,
       "grid_template_areas": null,
       "grid_template_columns": null,
       "grid_template_rows": null,
       "height": null,
       "justify_content": null,
       "justify_items": null,
       "left": null,
       "margin": null,
       "max_height": null,
       "max_width": null,
       "min_height": null,
       "min_width": null,
       "object_fit": null,
       "object_position": null,
       "order": null,
       "overflow": null,
       "overflow_x": null,
       "overflow_y": null,
       "padding": null,
       "right": null,
       "top": null,
       "visibility": null,
       "width": null
      }
     },
     "c5f29473e7db45479f039f3dde6f4616": {
      "model_module": "@jupyter-widgets/controls",
      "model_module_version": "1.5.0",
      "model_name": "DescriptionStyleModel",
      "state": {
       "_model_module": "@jupyter-widgets/controls",
       "_model_module_version": "1.5.0",
       "_model_name": "DescriptionStyleModel",
       "_view_count": null,
       "_view_module": "@jupyter-widgets/base",
       "_view_module_version": "1.2.0",
       "_view_name": "StyleView",
       "description_width": ""
      }
     },
     "e456e33702ec419e812501bdaa22e44b": {
      "model_module": "@jupyter-widgets/base",
      "model_module_version": "1.2.0",
      "model_name": "LayoutModel",
      "state": {
       "_model_module": "@jupyter-widgets/base",
       "_model_module_version": "1.2.0",
       "_model_name": "LayoutModel",
       "_view_count": null,
       "_view_module": "@jupyter-widgets/base",
       "_view_module_version": "1.2.0",
       "_view_name": "LayoutView",
       "align_content": null,
       "align_items": null,
       "align_self": null,
       "border": null,
       "bottom": null,
       "display": null,
       "flex": null,
       "flex_flow": null,
       "grid_area": null,
       "grid_auto_columns": null,
       "grid_auto_flow": null,
       "grid_auto_rows": null,
       "grid_column": null,
       "grid_gap": null,
       "grid_row": null,
       "grid_template_areas": null,
       "grid_template_columns": null,
       "grid_template_rows": null,
       "height": null,
       "justify_content": null,
       "justify_items": null,
       "left": null,
       "margin": null,
       "max_height": null,
       "max_width": null,
       "min_height": null,
       "min_width": null,
       "object_fit": null,
       "object_position": null,
       "order": null,
       "overflow": null,
       "overflow_x": null,
       "overflow_y": null,
       "padding": null,
       "right": null,
       "top": null,
       "visibility": null,
       "width": null
      }
     },
     "fd4beded965648229ae3207afe5967b4": {
      "model_module": "@jupyter-widgets/controls",
      "model_module_version": "1.5.0",
      "model_name": "HTMLModel",
      "state": {
       "_dom_classes": [],
       "_model_module": "@jupyter-widgets/controls",
       "_model_module_version": "1.5.0",
       "_model_name": "HTMLModel",
       "_view_count": null,
       "_view_module": "@jupyter-widgets/controls",
       "_view_module_version": "1.5.0",
       "_view_name": "HTMLView",
       "description": "",
       "description_tooltip": null,
       "layout": "IPY_MODEL_00fb24281ae44f54af73772e557436f3",
       "placeholder": "​",
       "style": "IPY_MODEL_078f20aad7e64481abf417e9decbd960",
       "value": " 500/500 [00:00&lt;00:00, 900.60it/s]"
      }
     }
    },
    "version_major": 2,
    "version_minor": 0
   }
  }
 },
 "nbformat": 4,
 "nbformat_minor": 5
}
